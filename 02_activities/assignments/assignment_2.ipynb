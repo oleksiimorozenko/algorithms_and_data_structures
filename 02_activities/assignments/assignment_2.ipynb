{
 "cells": [
  {
   "cell_type": "markdown",
   "metadata": {},
   "source": [
    "# Practice Interview\n",
    "\n",
    "## Objective\n",
    "\n",
    "_*The partner assignment aims to provide participants with the opportunity to practice coding in an interview context. You will analyze your partner's Assignment 1. Moreover, code reviews are common practice in a software development team. This assignment should give you a taste of the code review process.*_\n",
    "\n",
    "## Group Size\n",
    "\n",
    "Each group should have 2 people. You will be assigned a partner\n",
    "\n",
    "## Part 1:\n",
    "\n",
    "You and your partner must share each other's Assignment 1 submission."
   ]
  },
  {
   "cell_type": "markdown",
   "metadata": {},
   "source": [
    "\n",
    "## Part 2:\n",
    "\n",
    "Create a Jupyter Notebook, create 6 of the following headings, and complete the following for your partner's assignment 1:\n",
    "\n",
    "-   Paraphrase the problem in your own words.\n"
   ]
  },
  {
   "cell_type": "markdown",
   "metadata": {},
   "source": [
    ">The task is to create a code which finds and prints missing numbers in the list of numbers from 0 to n; if there's no missing numbers, it should output `-1`"
   ]
  },
  {
   "cell_type": "markdown",
   "metadata": {},
   "source": [
    "\n",
    "-   Create 1 new example that demonstrates you understand the problem. Trace/walkthrough 1 example that your partner made and explain it.\n"
   ]
  },
  {
   "cell_type": "markdown",
   "metadata": {},
   "source": [
    ">Let's trace the code provided by the partner for the example `[6,8,2,3,5,7,0,1,10]` (code is below)\n",
    ">1. The function `missing_num` is called with the given list\n",
    ">2. The maximum number in the list is found to be `10`\n",
    ">3. The expected numbers from 0 to 10 are calculated as `{0, 1, 2, 3, 4, 5, 6, 7, 8, 9, 10}`\n",
    ">4. The input list is converted to a set (i.e. ordered and unique): `{0, 1, 2, 3, 5, 6, 7, 8, 10}`\n",
    ">5. The difference between the expected numbers and the actual numbers is calculated: `{9, 4}`\n",
    ">6. The function returns the missing numbers: `[9, 4]`"
   ]
  },
  {
   "cell_type": "markdown",
   "metadata": {},
   "source": [
    "\n",
    "-   Copy the solution your partner wrote. \n"
   ]
  },
  {
   "cell_type": "code",
   "execution_count": null,
   "metadata": {},
   "outputs": [],
   "source": [
    "#def missing_num(nums: List) -> int:\n",
    "  # TODO\n",
    "from typing import List\n",
    "\n",
    "def missing_num(lst: List[int]) -> List[int]:\n",
    "    n = max(lst)  # Find the maximum number in the given list\n",
    "    expected_nums = set(range(n + 1))  # Expected numbers from 0 to n\n",
    "    actual_nums = set(lst)  # Convert input list to a set\n",
    "\n",
    "    missing = list(expected_nums - actual_nums)  # Find missing elements\n",
    "\n",
    "    return missing if missing else -1  # Return missing numbers or -1 if none are missing\n",
    "#Testing my code\n",
    "missing_num([6,8,2,3,5,7,0,1,10])"
   ]
  },
  {
   "cell_type": "markdown",
   "metadata": {},
   "source": [
    "\n",
    "-   Explain why their solution works in your own words.\n"
   ]
  },
  {
   "cell_type": "markdown",
   "metadata": {},
   "source": [
    ">The solution works by first finding the maximum number in the list, which is the highest possible number in the list. Then, it creates a set of numbers from 0 to the maximum number found in the previous step  \n",
    ">Next, it converts the input list into a set, which removes duplicates and allows for efficient comparison  \n",
    ">The code then calculates the difference between the expected numbers and the actual numbers, which identifies the missing numbers  \n",
    ">Finally, it returns the missing numbers or `-1` if there are no missing numbers"
   ]
  },
  {
   "cell_type": "markdown",
   "metadata": {},
   "source": [
    "\n",
    "-   Explain the problem’s time and space complexity in your own words.\n"
   ]
  },
  {
   "cell_type": "markdown",
   "metadata": {},
   "source": [
    ">The solution has a time complexity of O(n) because it involves iterating through the list once to find the maximum number  \n",
    ">The space complexity is also O(n) because it creates a set of unique numbers from the list."
   ]
  },
  {
   "cell_type": "markdown",
   "metadata": {},
   "source": [
    "\n",
    "-   Critique your partner's solution, including explanation, and if there is anything that should be adjusted.\n"
   ]
  },
  {
   "cell_type": "markdown",
   "metadata": {},
   "source": [
    ">There's not much to critique. The solution is clear and concise. The only thing I would suggest is to add a check for the case where the list is empty  \n",
    ">Another comment is to the task itself. It says \"Note, all the integers in the list may not be unique.\" without clarifying what list is being referred to. If it's the input list, then I would suggest adding the corresponding check and returning a message about that. My partner understood it as the output list and implemented the solution accordingly"
   ]
  },
  {
   "cell_type": "markdown",
   "metadata": {},
   "source": [
    "\n",
    "## Part 3:\n",
    "\n",
    "Please write a 200 word reflection documenting your process from assignment 1, and your presentation and review experience with your partner at the bottom of the Jupyter Notebook under a new heading \"Reflection.\" Again, export this Notebook as pdf.\n"
   ]
  },
  {
   "cell_type": "markdown",
   "metadata": {},
   "source": [
    "### Reflection"
   ]
  },
  {
   "cell_type": "markdown",
   "metadata": {},
   "source": [
    ">It was a good experience to have some practice with algorithms and data structures. The code written for the real world is much more complex than we dealt with in the assignments, which can give a faulty idea that it was a useless theoretical course and one doesn't need to know algorithms, time and space complexity, etc. That it doesn't matter how well the code is written, it anyway runs fine and quickly  \n",
    ">Well, it does until it doesn't :) And maybe at the moment it doesn't seem important, butI think it's crucial to have a solid understanding for the cases when the code doesn't act as expected. That's when this knowledge comes in handy  \n",
    "> As for the review, I give and get reviews in my day job. It's always a good practice to have a fresh look at the code from a different perspective, thus another opinion is valuable. And, it works in both directions"
   ]
  },
  {
   "cell_type": "markdown",
   "metadata": {},
   "source": [
    "\n",
    "## Evaluation Criteria\n",
    "\n",
    "We are looking for the similar points as Assignment 1\n",
    "\n",
    "-   Problem is accurately stated\n",
    "\n",
    "-   New example is correct and easily understandable\n",
    "\n",
    "-   Correctness, time, and space complexity of the coding solution\n",
    "\n",
    "-   Clarity in explaining why the solution works, its time and space complexity\n",
    "\n",
    "-   Quality of critique of your partner's assignment, if necessary\n"
   ]
  },
  {
   "cell_type": "markdown",
   "metadata": {},
   "source": [
    "## Submission Information\n",
    "\n",
    "🚨 **Please review our [Assignment Submission Guide](https://github.com/UofT-DSI/onboarding/blob/main/onboarding_documents/submissions.md)** 🚨 for detailed instructions on how to format, branch, and submit your work. Following these guidelines is crucial for your submissions to be evaluated correctly.\n",
    "\n",
    "### Submission Parameters:\n",
    "* Submission Due Date: `HH:MM AM/PM - DD/MM/YYYY`\n",
    "* The branch name for your repo should be: `assignment-2`\n",
    "* What to submit for this assignment:\n",
    "    * This Jupyter Notebook (assignment_2.ipynb) should be populated and should be the only change in your pull request.\n",
    "* What the pull request link should look like for this assignment: `https://github.com/<your_github_username>/algorithms_and_data_structures/pull/<pr_id>`\n",
    "    * Open a private window in your browser. Copy and paste the link to your pull request into the address bar. Make sure you can see your pull request properly. This helps the technical facilitator and learning support staff review your submission easily.\n",
    "\n",
    "Checklist:\n",
    "- [ ] Created a branch with the correct naming convention.\n",
    "- [ ] Ensured that the repository is public.\n",
    "- [ ] Reviewed the PR description guidelines and adhered to them.\n",
    "- [ ] Verify that the link is accessible in a private browser window.\n",
    "\n",
    "If you encounter any difficulties or have questions, please don't hesitate to reach out to our team via our Slack at `#cohort-3-help`. Our Technical Facilitators and Learning Support staff are here to help you navigate any challenges.\n"
   ]
  }
 ],
 "metadata": {
  "language_info": {
   "name": "python"
  }
 },
 "nbformat": 4,
 "nbformat_minor": 2
}
